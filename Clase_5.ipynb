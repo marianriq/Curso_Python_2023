{
  "cells": [
    {
      "cell_type": "markdown",
      "metadata": {
        "id": "0N_SfZZrPZMY"
      },
      "source": [
        "<a href=\"https://colab.research.google.com/github/ITBA-Python/Certificacion-Profesional-Python/blob/main/Clase_5.ipynb\" target=\"_parent\"><img src=\"https://colab.research.google.com/assets/colab-badge.svg\" alt=\"Open In Colab\"/></a>"
      ]
    },
    {
      "cell_type": "markdown",
      "metadata": {
        "id": "UShQ7MbxF39r"
      },
      "source": [
        "<img src=\"https://raw.githubusercontent.com/ITBA-Python/Certificacion-Profesional-Python/main/assets/clase2/Headers%20c%C3%A1talogo_Mesa%20de%20trabajo%201%20copia%2044.jpg\" width=\"800\">\n",
        "\n",
        "\n",
        "\n",
        "# Certificación profesional de Python\n",
        "\n",
        "# Clase 5\n",
        "\n",
        "El objetivo de la clase es seguir sumando experiencia de trabajo con programación aprendiendo los siguientes temas.\n",
        "\n",
        "*   Redes e Internet\n",
        "*   Protocolo HTTP\n",
        "\n",
        "La clase incluye teoría y práctica sobre cada tema aprendido.\n",
        "\n",
        "<img src=\"https://raw.githubusercontent.com/ITBA-Python/Certificacion-Profesional-Python/main/assets/clase2/LOGOTIPO_sin_fondo_positivo_sin_bajada.png\" width=\"400\">\n",
        "\n"
      ]
    },
    {
      "cell_type": "markdown",
      "metadata": {
        "id": "Qyyuj41HPZMb"
      },
      "source": [
        "# Redes e Internet"
      ]
    },
    {
      "cell_type": "markdown",
      "metadata": {
        "id": "At0RbNQPPZMb"
      },
      "source": [
        "Para comenzar a utilizar Python con la web es fundamental entender primero las nociones básicas del funcionamiento de redes e Internet. El siguiente artículo detalla qué es y cómo funciona lo que comúnmente llamamos Internet.\n",
        "\n",
        "<a href=\"https://developer.mozilla.org/es/docs/Learn/Common_questions/How_does_the_Internet_work\">¿Cómo funciona Internet?</a>"
      ]
    },
    {
      "cell_type": "markdown",
      "metadata": {
        "id": "q2QTVr4xPZMc"
      },
      "source": [
        "## Transferencia de datos"
      ]
    },
    {
      "cell_type": "markdown",
      "metadata": {
        "id": "hPz6kSzgPZMd"
      },
      "source": [
        "Para comunicar una computadora con otra vemos que los datos deben pasar por múltiples puntos intermedios en la red. Podemos tener un router, un modem y más dispositivos que nos ayudan a que ambas computadoras puedan intercambiar datos entre sí.\n",
        "\n",
        "Los datos que queremos enviar deben sufrir múltiples transformaciones para poder llegar desde nuestro código, pasar por todos éstos dispositivos intermedios, hasta llegar a su destino. Podemos identificar múltiples capas de abstracción, que son formas de representar los mismos datos. Algunas de estas capas son:\n",
        " - Bajo nivel o capa física: los datos se representan en forma de unos y ceros, en código binario.\n",
        "\n",
        " - Medio nivel o capa de red/transporte: los datos se representan en forma de paquetes. Los unos y ceros de capas inferiores se agrupan según normas predefinidas para formar paquetes. En este nivel podemos encontrar el protocolo TCP/IP (Transmission Control Protocol/Internet Protocol) que dicta cómo se deben transmitir los datos (paquetes) entre computadoras. El dispositivo encargado de todo ésto es el router.\n",
        "\n",
        " - Alto nivel o capa de aplicación: en la capa más alta de abstracción los datos son simplemente eso, datos como por ejemplo variables en un lenguaje de programación como Python. En este nivel podemos encontrar protocolos de comunicación como HTTP (Hypertext Transfer Protocol). Múltiples servicios que usamos diariamente se encuentran en este nivel, como el correo electrónica y la World Wide Web (www, o web)."
      ]
    },
    {
      "cell_type": "markdown",
      "metadata": {
        "id": "0FPKvg1UPZMd"
      },
      "source": [
        "## Internet Protocol"
      ]
    },
    {
      "cell_type": "markdown",
      "metadata": {
        "id": "NMUgL92fPZMg"
      },
      "source": [
        "Ya vimos que la IP es una dirección única que identifica a una computadora en Internet, como por ejemplo 56.12.32.01. Pero si miramos los números en detalle nos damos cuenta que no hay tantas posbilidades como usuarios de Internet en el mundo. ¿Cuántas posibilidades hay? ¿Cómo funciona entonces este sistema de IPs?"
      ]
    },
    {
      "cell_type": "code",
      "execution_count": null,
      "metadata": {
        "id": "kHCw8xVrPZMg"
      },
      "outputs": [],
      "source": [
        "maximo_valor = 256\n",
        "maximo_ips = maximo_valor ** 4\n",
        "poblacion = 7753 * 1e6\n",
        "poblacion_internet = 0.567*poblacion\n",
        "\n",
        "print('Personas con acceso a internet en el mundo:', poblacion_internet)\n",
        "print('Direcciones IP disponibles:', maximo_ips)"
      ]
    },
    {
      "cell_type": "markdown",
      "metadata": {
        "id": "eMZLAakJPZMi"
      },
      "source": [
        "### IP Pública y Privada"
      ]
    },
    {
      "cell_type": "markdown",
      "metadata": {
        "id": "l2pZ5hs9PZMj"
      },
      "source": [
        "Considerando un caso simple, podemos identificar en la extensa red de Internet muchas \"redes locales\". Es el caso de las redes que vimos al principio del artículo \"¿Cómo funciona Internet?\", donde 10 computadoras (o dispositivos) se conectan a un router. En éstas redes locales el router se encarga de asignar a cada dispositivo IPs privadas. Estas direcciones son privadas de cada red local y por lo tanto pueden repetirse de una red a otra sin problemas, dejando solamente la IP pública del router comunicándose con el resto de Internet.\n",
        "\n",
        "<img src=\"https://signal.avg.com/hs-fs/hubfs/Blog_Content/Avg/Signal/AVG%20Signal%20Images/Public%20vs.%20local%20IP%20addresses%20(Signal)/Public-vs-local-IP-addresses.png?width=1320&name=Public-vs-local-IP-addresses.png\" width=\"400\">"
      ]
    },
    {
      "cell_type": "markdown",
      "metadata": {
        "id": "wlIA1QaXPZMj"
      },
      "source": [
        "El router entonces guarda una \"tabla\" de direcciones para poder direccionar todos los paquetes que pasen por él.\n",
        "\n",
        "Pero todavía tenemos un problema. ¿Qué pasa si dos programas de la misma computadora quieren comunicarse con la misma dirección? ¿Cómo sabe el router y la computadora a que programa corresponden los dos paquetes que llegan?"
      ]
    },
    {
      "cell_type": "markdown",
      "metadata": {
        "id": "8LSxsmqhPZMj"
      },
      "source": [
        "### Socket"
      ]
    },
    {
      "cell_type": "markdown",
      "metadata": {
        "id": "RWpPMni3PZMj"
      },
      "source": [
        "El sistema que permite solucionar el problema de los múltiples programas que usan la misma IP privada son los puertos. Cada programa (o proceso) de un dispositivo lleva asociado un puerto para comunicarse, sumándose a la IP privada para identificar ese proceso. Es un número que simplemente se acopla a la dirección IP, como por ejemplo 192.168.0.5:80. En ese caso el número 80 representa el puerto.\n",
        "\n",
        "Esta nueva dirección que se compone de la dirección IP + el puerto es lo que llamamos en redes y programación Socket. Toda esta información también esta almacenada en el router para que pueda direccionar correctamente cada paquete que llega. La programación de Sockets se puede enmarcar en el nivel medio de los niveles de abstracción en redes."
      ]
    },
    {
      "cell_type": "markdown",
      "metadata": {
        "id": "e-MZ7nyRPZMj"
      },
      "source": [
        "## Modelo cliente-servidor"
      ]
    },
    {
      "cell_type": "markdown",
      "metadata": {
        "id": "gnhmKa-1PZMj"
      },
      "source": [
        "Muchas de éstas comunicaciones de datos siguen un modelo de cliente-servidor.\n",
        "\n",
        "<img src=\"https://mdn.mozillademos.org/files/17299/Cliente-Servidor.png\" width=\"400\">\n",
        "\n",
        "En la forma más básica, en este tipo de sistemas las dos computadoras adoptan roles distintos, una actúa como servidor y otra actúa como cliente.\n",
        "\n",
        "El servidor es el que se encarga de almacenar y brindar los datos que el cliente requiere. El cliente por otro lado es el que solicita datos al servidor, y en la mayoría de los casos es el que utiliza un usuario.\n",
        "\n",
        "Se puede pensar que el servidor está a la espera de solicitudes de un cliente, \"escuchando\" todas las comunicaciones para detectar si un cliente se quiere conectar.\n",
        "\n",
        "El cliente por otro lado es el que inicia la comunicación con el servidor y se conecta. Una vez establecida la conexión el cliente comieza a hacer solicitudes de todo tipo hasta que finaliza y cierra la conexión.\n"
      ]
    },
    {
      "cell_type": "markdown",
      "metadata": {
        "id": "LvdR2Z38PZMk"
      },
      "source": [
        "### Ejemplo con sockets"
      ]
    },
    {
      "cell_type": "markdown",
      "metadata": {
        "id": "zbp4dFYiPZMk"
      },
      "source": [
        "La programación con sockets sigue este modelo de cliente-servidor. Este modo de comunicación es de bajo nivel y los detalles de la programación están fuera del alcance del curso, pero se muestra un diagrama en bloques simplificado y la documentación para poder profundizar si así lo quisieran.\n",
        "\n",
        "<img src=\"https://media.geeksforgeeks.org/wp-content/uploads/Socket_server-1.png\" width=\"400\">\n",
        "\n",
        "Documentación de sockets en Python: <a href=\"https://docs.python.org/3/library/socket.html\">Networking Interface</a> <a href=\"https://docs.python.org/es/3/howto/sockets.html\">Sockets</a>"
      ]
    },
    {
      "cell_type": "markdown",
      "metadata": {
        "id": "VGiZCc7TPZMk"
      },
      "source": [
        "# Protocolo HTTP"
      ]
    },
    {
      "cell_type": "markdown",
      "metadata": {
        "id": "20SMySJ6PZMk"
      },
      "source": [
        "El protocolo HTTP (Protocolo de Transferencia de Hipertexto) es una de las formas que tienen de comunicarse las aplicaciones en el nivel más alto de abstracción. Existen muchos otros protocolos de comunicación en este nivel, como FTP, SMTP y SSH, pero nos enfocaremos en HTTP ya que es uno de los más utilizados y es la base de todas las comunicaciones e intercambio de datos en la web.\n",
        "\n",
        "Desde el punto de vista de la programación, este protocolo nos facilita el armado y comunicación de los \"paquetes\" que venimos viendo en las secciones anteriores, y trabaja sobre el protocolo TCP/IP en la mayoría de los casos.\n",
        "Al trabajar con un protocolo de alto nivel nos permite a la hora de programar este tipo de comunicaciones en un lenguaje como Python, dejar de lado los detalles de bajo nivel y enfocarnos en la aplicación que queremos desarrollar.\n",
        "\n",
        "Al igual que los sockets, esta comunicación también sigue el modelo de cliente-servidor. El cliente hace requests (solicitudes) al servidor, y éste le devuelve un response (respuesta). Los datos que se intercambian suelen ser documentos de hipertexto, imágenes, videos, datos de formularios, etc. Profundizaremos más en este tema en próximas clases.\n",
        "\n",
        "Para profundizar por su cuenta: <a href=\"https://developer.mozilla.org/es/docs/Web/HTTP/Overview\">Nociones Básicas de HTTP</a>"
      ]
    },
    {
      "cell_type": "markdown",
      "metadata": {
        "id": "mHWedNf2PZMk"
      },
      "source": [
        "## Mensajes HTTP"
      ]
    },
    {
      "cell_type": "markdown",
      "metadata": {
        "id": "GlH8G2LoPZMk"
      },
      "source": [
        "Existen dos tipos básicos de mensajes HTTP, que dependenrán de que agente del sistema lo envió (cliente o servidor)."
      ]
    },
    {
      "cell_type": "markdown",
      "metadata": {
        "id": "NSZfXzYVPZMk"
      },
      "source": [
        "### Request HTTP"
      ]
    },
    {
      "cell_type": "markdown",
      "metadata": {
        "id": "TwJHvZ_yPZMk"
      },
      "source": [
        "Los mensajes que envía el cliente se denominan requests, y se componen de múltiples elementos.\n",
        "\n",
        "<img src=\"https://mdn.mozillademos.org/files/13687/HTTP_Request.png\" width=\"400\">"
      ]
    },
    {
      "cell_type": "markdown",
      "metadata": {
        "id": "drvohabIPZMl"
      },
      "source": [
        "#### Métodos HTTP"
      ]
    },
    {
      "cell_type": "markdown",
      "metadata": {
        "id": "Q2wlQqF7PZMl"
      },
      "source": [
        "El protocolo define una serie de métodos que identifican la acción que quiere realizar el cliente. Existen múltiples métodos pero los más utilizados son GET, POST, PUT y DELETE.\n",
        "\n",
        "- El método GET se utiliza cuando el cliente quiere obtener datos del servidor, como por ejemplo obtener una lista de todos los estudiantes del curso.\n",
        "\n",
        "- El método POST se utiliza cuando el cliente quiere enviar al servidor nuevos datos, como por ejemplo los datos de un formulario para agregar un nuevo estudiante al curso.\n",
        "\n",
        "- El método PUT se utiliza cuando el cliente quiere modificar datos que ya se encuentran en el servidor, como por ejemplo cambiar el nombre de un estudiante del curso.\n",
        "\n",
        "- El método DELETE se utiliza cuando el cliente quiere eliminar datos que se encuentran en el servidor, como por ejemplo eliminar un estudiante del curso."
      ]
    },
    {
      "cell_type": "markdown",
      "metadata": {
        "id": "arMp2i2DPZMl"
      },
      "source": [
        "#### Ruta y URL"
      ]
    },
    {
      "cell_type": "markdown",
      "metadata": {
        "id": "gDwFFgrAPZMl"
      },
      "source": [
        "El request debe escificar la ruta del recurso con el que quiere interactuar el cliente. Esta ruta sin embargo no cuenta con algunos elementos que el servidor puede sacar del contexto, pero que es importante tener presente para establecer y entender la comunicación, y son todos éstos elementos juntos los que conforman la URL (localizador de recursos uniforme).\n",
        "\n",
        "- Protocolo: lo que generalmente vemos como \"http://\". Indican el protocolo que se está utilizando.\n",
        "- Dominio o Host: \"developer.mozilla.org\". Indica el nombre de dominio que luego se transforma en la IP correspondiente del servidor.\n",
        "- Puerto: como vimos anteriormente, el puerto al igual que la dirección IP es importante para localizar el servidor específico. Para el caso de la web el puerto por defecto que se utiliza es el puerto 80 (no figura en la URL porque se utiliza siempre el mismo en la web).\n",
        "\n",
        "Con todos elementos se construye la URL que solemos ver en los navegadores cuando usamos la web:\n",
        "\n",
        "http://developer.mozilla.org/\n",
        "\n",
        "Se pueden agregar además parámetros a la URL luego del recurso, en el formato clave-valor separados por &. Ejemplo: http://developer.mozilla.org?key1=value1&key2=value2.\n",
        "Estos parámetros pueden pensarse como los parámetros que le pasamos a una función en el código Python, pero como si la función estuviera en el servidor, como puede ser el caso de un request de tipo GET."
      ]
    },
    {
      "cell_type": "markdown",
      "metadata": {
        "id": "6A4ofvIYPZMl"
      },
      "source": [
        "#### Headers y cuerpo"
      ]
    },
    {
      "cell_type": "markdown",
      "metadata": {
        "id": "aMFHcLgFPZMl"
      },
      "source": [
        "Un request también tiene una serie de headers que se pueden utilizar para aportar información adicional al servidor, como por ejemplo información de autenticación.\n",
        "También puede estar presente un cuerpo (o body en inglés) del request, que se puede utilizar para enviar la información requerida al servidor, como por ejemplo los datos del formulario en un request de tipo POST."
      ]
    },
    {
      "cell_type": "markdown",
      "metadata": {
        "id": "ABsTcDVRPZMl"
      },
      "source": [
        "### Reponse HTTP"
      ]
    },
    {
      "cell_type": "markdown",
      "metadata": {
        "id": "zoaeNAbYPZMm"
      },
      "source": [
        "Los mensajes que envía el servidor se denominan responses, y se componen de múltiples elementos.\n",
        "\n",
        "<img src=\"https://mdn.mozillademos.org/files/13691/HTTP_Response.png\" width=\"400\">"
      ]
    },
    {
      "cell_type": "markdown",
      "metadata": {
        "id": "J6N0Q6emPZMm"
      },
      "source": [
        "#### Código de estado"
      ]
    },
    {
      "cell_type": "markdown",
      "metadata": {
        "id": "gRk6JXbRPZMm"
      },
      "source": [
        "El servidor en el response envía un código (acompañado de un mensaje), que le indican al cliente el resultado de su solicitud, si fue existosa o tuvo algún fallo. Existen muchos códigos de estado que define el protocolo HTTP, pero los más conocidos son el código 200 que significa que la petición tuvo éxito y el código 404 que signigica que el recurso no fue encontrado. Si quieren profundizar en el tema acá hay una lista de todos los códigos de estado definidos: <a href=\"https://developer.mozilla.org/es/docs/Web/HTTP/Status\">Códigos de estado HTTP</a>"
      ]
    },
    {
      "cell_type": "markdown",
      "metadata": {
        "id": "JSoXUyVZPZMm"
      },
      "source": [
        "#### Headers y cuerpo"
      ]
    },
    {
      "cell_type": "markdown",
      "metadata": {
        "id": "J2Ya_kygPZMm"
      },
      "source": [
        "Al igual que los requests, el response cuenta también con headers que cumplen exactamente la misma función. El cuerpo del response por otro lado contiene el recurso y los datos que el cliente solicitó del servidor."
      ]
    },
    {
      "cell_type": "markdown",
      "metadata": {
        "id": "4i6_eQbcPZMm"
      },
      "source": [
        "## Requests for Python"
      ]
    },
    {
      "cell_type": "markdown",
      "metadata": {
        "id": "O-wVzBCVPZMm"
      },
      "source": [
        "Si bien existen librerías de Python que permiten manejar cada mensaje de HTTP de forma individual, para la gran mayoría de los casos no es necesario trabajar en tan \"bajo nivel\" y es posible utilizar paquetes que nos facilitan la programación.\n",
        "En este curso vamos a utilizar el paquete Requests para implementar todas las comunicaciones con HTTP.\n",
        "\n",
        "<a href=\"https://requests.readthedocs.io/en/latest/\">Request for Python</a>"
      ]
    },
    {
      "cell_type": "code",
      "execution_count": null,
      "metadata": {
        "id": "Mhd_hqs8PZMm"
      },
      "outputs": [],
      "source": [
        "import requests"
      ]
    },
    {
      "cell_type": "markdown",
      "metadata": {
        "id": "saWQMkO-PZMs"
      },
      "source": [
        "### Request"
      ]
    },
    {
      "cell_type": "markdown",
      "metadata": {
        "id": "MJrZIbZePZMs"
      },
      "source": [
        "Podemos hacer cualquier request de HTTP simplemente usando el método correspondiente de requests (lo que importamos anteriormente)."
      ]
    },
    {
      "cell_type": "code",
      "execution_count": null,
      "metadata": {
        "id": "5_qj8ZbgPZMs"
      },
      "outputs": [],
      "source": [
        "# Un request GET\n",
        "r = requests.get('https://httpbin.org/get')\n",
        "print(\"El contenido del GET fue:\\n\", r.content)\n",
        "\n",
        "# Un request POST\n",
        "r = requests.post('https://httpbin.org/post')\n",
        "print(\"El contenido del POST fue:\\n\", r.content)"
      ]
    },
    {
      "cell_type": "markdown",
      "metadata": {
        "id": "e31DuSKdPZMt"
      },
      "source": [
        "Para los métodos POST y PUT, el request en general tiene que ir acompañado de los datos que queremos modificar en el servidor. Para eso existe el argumento \"data\", con el cual podemos pasarle los datos en el formato de un diccionario de Python."
      ]
    },
    {
      "cell_type": "code",
      "execution_count": null,
      "metadata": {
        "id": "YwrvW65MPZMt"
      },
      "outputs": [],
      "source": [
        "r = requests.post('https://httpbin.org/post', data={'key': 'value'})\n",
        "print(\"POST con data:\\n\", r.content)\n",
        "\n",
        "r = requests.put('https://httpbin.org/put', data={'key': 'value'})\n",
        "print(\"PUT con data:\\n\", r.content)"
      ]
    },
    {
      "cell_type": "markdown",
      "metadata": {
        "id": "P0bPIFukPZMt"
      },
      "source": [
        "Para los métodos GET, el request suele ir acompañado de argumentos que debemos pasarle al servidor para realizar una solicitud. Para eso existe el argumento \"params\". Al igual que con el argumento \"data\", podemos pasarle los datos en un diccionario de Python."
      ]
    },
    {
      "cell_type": "code",
      "execution_count": null,
      "metadata": {
        "id": "v2CU_UaQPZMt"
      },
      "outputs": [],
      "source": [
        "payload = {'key1': 'value1', 'key2': 'value2'}\n",
        "r = requests.get('https://httpbin.org/get', params=payload)\n",
        "print(\"GET con parámetros:\\n\", r.content)\n",
        "\n",
        "print(\"URL que se forma:\\n\", r.url)"
      ]
    },
    {
      "cell_type": "markdown",
      "metadata": {
        "id": "mU4d6XrIPZMt"
      },
      "source": [
        "### Reponse"
      ]
    },
    {
      "cell_type": "markdown",
      "metadata": {
        "id": "pxcM-S8-PZMt"
      },
      "source": [
        "La variable r que venimos usando en el código representa el mensaje response que envía el servidor. Existen varias formas de leer el contenido del mensaje.\n",
        "\n",
        " - r.text: devuelve el contenido del mensaje en un formato de text ya decodificado.\n",
        " - r.content: devuelve el contenido del mensaje en formato raw.\n",
        " - r.json(): devuelve el contenido del mensaje en formato JSON (profundizaremos en este formato en próximas clases)."
      ]
    },
    {
      "cell_type": "code",
      "execution_count": null,
      "metadata": {
        "id": "YGgTxVjDPZMt"
      },
      "outputs": [],
      "source": [
        "r = requests.get('https://httpbin.org/get')\n",
        "print(\"Contendio en text:\\n\", r.text)\n",
        "print(\"Contendio en raw:\\n\", r.content)\n",
        "print(\"Contendio en JSON:\\n\", r.json())"
      ]
    },
    {
      "cell_type": "markdown",
      "metadata": {
        "id": "IxBE4YKrPZMu"
      },
      "source": [
        "# Ejercicio Integrador"
      ]
    },
    {
      "cell_type": "markdown",
      "metadata": {
        "id": "1T98aRncPZMu"
      },
      "source": [
        "Escribir un programa en Python que obtenga en formato raw la clase 4 de este curso desde Github (https://github.com/ITBA-Python/Certificacion-Profesional-Python/blob/main/Clase_4.ipynb) y guarde los contenidos en un archivo miPrimerClase.ipynb en su computadora.\n",
        "\n",
        "Tip: Github tiene una opción para ver los contenidos raw de un archivo."
      ]
    }
  ],
  "metadata": {
    "colab": {
      "name": "Clase 5.ipynb",
      "provenance": []
    },
    "interpreter": {
      "hash": "8a94588eda9d64d9e9a351ab8144e55b1fabf5113b54e67dd26a8c27df0381b3"
    },
    "kernelspec": {
      "display_name": "Python 3.10.4 64-bit",
      "language": "python",
      "name": "python3"
    },
    "language_info": {
      "name": "python",
      "version": "3.10.4"
    }
  },
  "nbformat": 4,
  "nbformat_minor": 0
}