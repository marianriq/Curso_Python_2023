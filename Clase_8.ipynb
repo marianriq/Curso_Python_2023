{
  "cells": [
    {
      "cell_type": "markdown",
      "metadata": {
        "id": "view-in-github",
        "colab_type": "text"
      },
      "source": [
        "<a href=\"https://colab.research.google.com/github/marianriq/Curso_Python_2023/blob/main/Clase_8.ipynb\" target=\"_parent\"><img src=\"https://colab.research.google.com/assets/colab-badge.svg\" alt=\"Open In Colab\"/></a>"
      ]
    },
    {
      "cell_type": "markdown",
      "metadata": {
        "id": "gA098fNUqvb_"
      },
      "source": [
        "<a href=\"https://colab.research.google.com/github/ITBA-Python/Certificacion-Profesional-Python/blob/main/Clase_8.ipynb\" target=\"_parent\"><img src=\"https://colab.research.google.com/assets/colab-badge.svg\" alt=\"Open In Colab\"/></a>"
      ]
    },
    {
      "cell_type": "markdown",
      "metadata": {
        "id": "UShQ7MbxF39r"
      },
      "source": [
        "<img src=\"https://raw.githubusercontent.com/ITBA-Python/Certificacion-Profesional-Python/main/assets/clase2/Headers%20c%C3%A1talogo_Mesa%20de%20trabajo%201%20copia%2044.jpg\" width=\"800\">\n",
        "\n",
        "\n",
        "\n",
        "# Certificación profesional de Python\n",
        "\n",
        "# Clase 8\n",
        "\n",
        "El objetivo de la clase es seguir sumando experiencia de trabajo con programación aprendiendo los siguientes temas.\n",
        "\n",
        "*   Bases de datos relacionales\n",
        "*   Lenguaje SQL y aplicaciones en Python\n",
        "\n",
        "La clase incluye teoría y práctica sobre cada tema aprendido.\n",
        "\n",
        "<img src=\"https://raw.githubusercontent.com/ITBA-Python/Certificacion-Profesional-Python/main/assets/clase2/LOGOTIPO_sin_fondo_positivo_sin_bajada.png\" width=\"400\">\n",
        "\n"
      ]
    },
    {
      "cell_type": "markdown",
      "metadata": {
        "id": "IOV0vIY_qvcC"
      },
      "source": [
        "# Bases de datos relacionales"
      ]
    },
    {
      "cell_type": "markdown",
      "metadata": {
        "id": "VYeWB3pKnXWI"
      },
      "source": [
        "## Introducción a bases de datos"
      ]
    },
    {
      "cell_type": "markdown",
      "metadata": {
        "id": "7GuFpHQanXWI"
      },
      "source": [
        "Una base de datos son simplemente conjuntos de datos. Éstos conjuntos hacen referencia a información perteneciente al mismo contexto o concepto, como por ejemplo el nombre, apellido y edad de una persona.\n",
        "Las bases de datos nos permiten almacenarlos de forma sistemática y estructurada, facilitando la administración de grandes volúmenes de datos."
      ]
    },
    {
      "cell_type": "markdown",
      "metadata": {
        "id": "8tulK18dnXWI"
      },
      "source": [
        "Existen múltiples modelos de bases de datos, que definen los tipos de datos y la forma en que se almacenan. El modelo más utilizado actualmente son las bases de datos relacionales.\n",
        "\n",
        "La principal característica de las bases relacionales es que se basan en la idea de crear relaciones entre los conjuntos de datos. La información se almacena en tablas, donde los datos pertecientes a un contexto forman parte de una misma tabla. Cada tabla consta de registros (las filas de la tabla) y campos (las columnas de la tabla). Es muy utilizado ya que es sencillo representar problemas reales y administrar datos dinámicamente."
      ]
    },
    {
      "cell_type": "markdown",
      "metadata": {
        "id": "koQ6Vm48nXWI"
      },
      "source": [
        "## Sistemas gestores de bases de datos"
      ]
    },
    {
      "cell_type": "markdown",
      "metadata": {
        "id": "v-I9HCO9nXWJ"
      },
      "source": [
        "Hay programas de software que nos permiten almacenar y posteriormente acceder a los datos de forma rápida y estructurada. Estos son los denominados Sistemas Gestores de Bases de Datos (DBMS por sus siglas en inglés), que dependerán del modelo de base de datos que se utilice. En el caso de los modelos relacionales existen múltiples DBSM. Hay sistemas de código abierto y propietarios, sencillos y avanzados, y la mayoría son compatibles con Python.\n",
        "Entre algunos de los DBMS más utilizados están SQL Server (desarrollado por Microsoft y únicamente disponible para sistemas Windows), Oracle (multiplataforma), MySQL (open source), PostegreSQL (open source) y SQLite (escrito en C, sencillo de incorporar).\n",
        "\n",
        "Los DBMS implementan sus propios lenguajes de programación internos para realizar las consultas y modificaciones a los registros en las tablas de datos. El lenguaje más utilizado en las bases de datos relacionales es el SQL (lenguaje de consulta estructurada por sus siglas en inglés)."
      ]
    },
    {
      "cell_type": "markdown",
      "metadata": {
        "id": "tvzAqOmhnXWJ"
      },
      "source": [
        "# Lenguaje SQL"
      ]
    },
    {
      "cell_type": "markdown",
      "metadata": {
        "id": "t1xiGhconXWJ"
      },
      "source": [
        "SQL es el lenguaje utilizado para administrar, consultar y modificar información de los RDBMS (DBMS para bases relacionales). El lenguaje funciona a base de comandos, que realizan una única acción ante la base de datos. Como con cualquier tipo de recurso, el lenguaje SQL nos permite interactuar con los datos mediante las cuatro acciones básicas: vista, creación, modificación y borrado.\n",
        "\n",
        "Para simplificar el desarrollo podemos dividir a su vez los comandos entre los que realizan una lectura de la base de datos, y los que hacen una escritura a la base de datos."
      ]
    },
    {
      "cell_type": "markdown",
      "metadata": {
        "id": "hYWc1KMjnXWJ"
      },
      "source": [
        "## Lectura"
      ]
    },
    {
      "cell_type": "markdown",
      "metadata": {
        "id": "rOUbtcmtnXWJ"
      },
      "source": [
        "Para leer de las tablas de la base de datos se utiliza el comando SELECT. La sentencia SELECT es una de las más utilizadas en SQL, ya que nos permite consultar las tablas y hacer consultas tan complejas como se requiera.\n",
        "\n",
        "La forma más básica de SELECT permite consultar todos los datos de una tabla, utilizando conjuntamente la cláusula FROM. Notar que todos los comandos deben terminar con punto y coma para que los reconozca el DBMS.\n",
        "\n",
        "```sql\n",
        "SELECT * FROM person;\n",
        "```\n",
        "\n",
        "En esta sentencia, estamos seleccionando todas las columnas de la tabla llamada person.\n",
        "\n",
        "Podemos también especificar que columnas queremos seleccionar especificando la lista de columnas en la sentencia SELECT.\n",
        "\n",
        "```sql\n",
        "SELECT full_name, age\n",
        "FROM person;\n",
        "```\n",
        "\n",
        "El procesamiento interno de este query sigue los siguientes pasos:\n",
        "- Primero se especifica la tabla de la que queremos obtener datos, utilizando la cláusula FROM. Esto genera una tabla sobre la que se harán las lecturas que siguen. En este caso la tabla es simplemente la tabla en sí de la DB, pero puede volverse más complejo.\n",
        "- Luego se especifican la lista de columnas a seleccionar de la tabla resultante anterior, utilizando la cláusula SELECT.\n",
        "- Finalmente, los datos resultantes son devueltos por el comando SQL como una tabla de resultados. En este caso las filas serán todas las de la tabla person mientras que las columnas serán solamente full_name y age.\n",
        "\n",
        "Es importante destacar en este punto que la filas en las tablas de la base de datos están identificadas por una clave única que identifica cada fila, comúnmente llamada clave primaria. Detallaremos más sobre las claves en secciones posteriores."
      ]
    },
    {
      "cell_type": "markdown",
      "metadata": {
        "id": "DPfO84G4nXWK"
      },
      "source": [
        "A esta forma básica del SELECT se le puden sumar una serie de cláusulas para modificar su comportamiento."
      ]
    },
    {
      "cell_type": "markdown",
      "metadata": {
        "id": "txfXypEEnXWK"
      },
      "source": [
        "### Ordenamiento"
      ]
    },
    {
      "cell_type": "markdown",
      "metadata": {
        "id": "qKJ7ZMoSnXWK"
      },
      "source": [
        "En SQL las tablas se almacenan en un orden no definido, por lo que cuando hacemos un SELECT el orden de las filas en la tabla resultado no está definido. Para especificar un orden de filas, se utiliza la cláusula ORDER BY.\n",
        "\n",
        "```sql\n",
        "SELECT full_name, age\n",
        "FROM person\n",
        "ORDER BY age DESC, full_name ASC;\n",
        "```\n",
        "\n",
        "La cláusula ORDER BY se evalúa luego del FROM y el SELECT, y ordena las filas de acuerdo a las columnas que se especifique en el orden ascendente (valor por defecto o utilizando ASC) o descendente (utiliando DESC).\n",
        "En el ejemplo mostrado se ordenan primero por edad descendiente y luego, para aquellas filas con el mismo valor de age, se ordenan alfabéticamente.\n",
        "\n",
        "Muchas veces que se aplica un ordenamiento, nos interesa solamente obtener un número limitado de filas, por ejemplo si queremos obtener las 10 personas mayores de la tabla. Para esto se utiliza la cláusula LIMIT.\n",
        "\n",
        "```sql\n",
        "SELECT * FROM person\n",
        "ORDER BY age DESC\n",
        "LIMIT 10;\n",
        "```\n",
        "\n",
        "Si bien la cláusula LIMIT puede utilizarse sin el ORDER BY, al no tener un orden definido una sentencia con LIMIT puede tener comportamientos diferentes. La cláusula LIMIT se evalúa al final de todo el query, luego del ORDER BY."
      ]
    },
    {
      "cell_type": "markdown",
      "metadata": {
        "id": "W5J4CrwjnXWK"
      },
      "source": [
        "### Filtrado"
      ]
    },
    {
      "cell_type": "markdown",
      "metadata": {
        "id": "mzfqqTGVnXWK"
      },
      "source": [
        "Hasta ahora los queries nos devuelven todas las filas de la tabla seleccionada. Si se requiere aplicar un filtro a las filas para seleccionar solamente aquellas que cumplen con cierta condición se utiliza la cláusula WHERE con una condición, luego del FROM y antes del ORDER BY.\n",
        "\n",
        "```sql\n",
        "SELECT full_name, age\n",
        "FROM person\n",
        "WHERE age >= 18\n",
        "ORDER BY age DESC;\n",
        "```\n",
        "\n",
        "En este caso, la cláusula WHERE se evalúa luego de la cláusula FROM para determinar la tabla de datos sobre la cual se hace el SELECT de columnas y el ordenamiento.\n",
        "\n",
        "Para definir la condición se pueden utilizar una serie de operadores de comparación y operadores lógicos."
      ]
    },
    {
      "cell_type": "markdown",
      "metadata": {
        "id": "Ml_dq30DnXWK"
      },
      "source": [
        "#### Operadores de comparación"
      ]
    },
    {
      "cell_type": "markdown",
      "metadata": {
        "id": "q-IRLAginXWK"
      },
      "source": [
        "Los operadores de comparación de SQL son los mismo que se utilizan en otros lenguajes de programación como Python.\n",
        "- = : igualdad\n",
        "- <> : desigualdad\n",
        "- < ó > : comparación estricta\n",
        "- <= ó >= : comparación inclusiva"
      ]
    },
    {
      "cell_type": "markdown",
      "metadata": {
        "id": "SHfPTzz0nXWK"
      },
      "source": [
        "#### Operadores lógicos"
      ]
    },
    {
      "cell_type": "markdown",
      "metadata": {
        "id": "8xIg9lWHnXWK"
      },
      "source": [
        "Los operadores lógicos de SQL también son los presentes comúnmente en otros lenguajes de programación, pero tiene además algunos particulares de SQL. Si bien podrán notar que muchos de estos operadores pueden implementarse con cadenas de AND o OR, facilitan los queries.\n",
        "\n",
        "- AND/OR/NOT: los operadores lógicos básicos.\n",
        "- ALL: evalúa si todas las condiciones son verdaderas.\n",
        "- ANY: evalúa si cualquiera de las condiciones son verdaderas.\n",
        "\n",
        "Existen también otros operadores más complejos, como los que se muestran en las secciones siguientes."
      ]
    },
    {
      "cell_type": "markdown",
      "metadata": {
        "id": "w4VSyFZRnXWK"
      },
      "source": [
        "##### IN\n",
        "\n",
        "Verifica si un valor está en una lista especificada de valores.\n",
        "\n",
        "Ejemplo que filtra las personas de 20 y 25 años.\n",
        "```sql\n",
        "SELECT * from person\n",
        "WHERE age in (20,25);\n",
        "```"
      ]
    },
    {
      "cell_type": "markdown",
      "metadata": {
        "id": "hzJrdvo_nXWL"
      },
      "source": [
        "##### BETWEEN\n",
        "\n",
        "Verifica si un valor está contenido en el rango especificado.\n",
        "\n",
        "Ejemplo que filtra las personas entre 20 y 25 años.\n",
        "```sql\n",
        "SELECT * FROM person\n",
        "WHERE age BETWEEN 20 AND 25;\n",
        "```"
      ]
    },
    {
      "cell_type": "markdown",
      "metadata": {
        "id": "OM9VvJQPnXWL"
      },
      "source": [
        "##### LIKE\n",
        "\n",
        "Realiza una búsqueda inexacta utilizando patrones de texto. Se utilizan dos caractéres que actúan a modo de comodín: % coincide con cualquier sentencia de cero o más caractéres, _ coincide con cualquier caractér único.\n",
        "\n",
        "Ejemplo que filtra las personas que se llaman John.\n",
        "```sql\n",
        "SELECT * FROM person\n",
        "WHERE full_name LIKE 'John%';\n",
        "```\n"
      ]
    },
    {
      "cell_type": "markdown",
      "metadata": {
        "id": "Wrj4aWYMnXWL"
      },
      "source": [
        "### Agrupaciones"
      ]
    },
    {
      "cell_type": "markdown",
      "metadata": {
        "id": "hoZwDPRDnXWL"
      },
      "source": [
        "Existen múltiples formas de agrupar datos en SQL. Podemos agrupar columnas de varias tablas para hacer un SELECT, podemos unir las filas de varias tablas en un query, y también podemos agrupar las filas de una misma tabla para calcular agregaciones."
      ]
    },
    {
      "cell_type": "markdown",
      "metadata": {
        "id": "HVF036yjnXWL"
      },
      "source": [
        "#### Join"
      ]
    },
    {
      "cell_type": "markdown",
      "metadata": {
        "id": "5sLlHOW9nXWL"
      },
      "source": [
        "Muchas veces los datos que necesitamos se encuentran en múltiples tablas relacionadas. En las bases de datos relacionales las tablas se asocian mediante claves foráneas, que detallaremos más adelante.\n",
        "\n",
        "Recordemos que anteriormente mencionamos que lo primero que se evalúa en un query es la sentencia FROM para obtener una \"tabla intermedia\" sobre la cual se hacen los SELECT especificados. Para unir las columnas de varias tablas en esta \"tabla intermedia\" se utiliza la cláusula INNER JOIN.\n",
        "\n",
        "Si tenemos dos tablas que se relacionan mediante la columna \"foreign_key_col\", podemos juntar las columnas de ambas tablas utilizando como condición para las filas esta columna de relación foránea.\n",
        "\n",
        "```sql\n",
        "SELECT full_name, age, country_name\n",
        "FROM person\n",
        "INNER JOIN countries ON person.country_id = countries.id;\n",
        "```\n",
        "\n",
        "Para cada fila de la tabla 'person', la cláusula INNER JOIN compara el valor de la columna country_id con el valor de la columna id de la tabla 'countries'. Solo en el caso que ambos valores sean iguales (ya que pusimos esa condición en luego del ON) se combinan los valores de las columnas de ambas tablas en esa fila."
      ]
    },
    {
      "cell_type": "markdown",
      "metadata": {
        "id": "g28u1aS3nXWL"
      },
      "source": [
        "#### Group"
      ]
    },
    {
      "cell_type": "markdown",
      "metadata": {
        "id": "YBj6M2m4nXWL"
      },
      "source": [
        "Si queremos calcular agregaciones sobre las filas de una tabla es posible agruparlas en filas de \"resumen\" de acuerdo a una condición. Para agrupar filas en filas \"resumen\" se utiliza la cláusula GROUP BY.\n",
        "\n",
        "Esta cláusula se aplica luego del select, y devuelve una fila para cada grupo, pudiendo aplicar alguna \"función agregada\" que proporciona SQL. Podemos calcular máximos (MAX), mínimos (MIN), sumas (SUM), conteos (COUNT), promedios (AVG), etc.\n",
        "\n",
        "```sql\n",
        "SELECT AVG(age)\n",
        "FROM person\n",
        "GROUP BY age;\n",
        "```\n",
        "\n",
        "En este ejemplo se devuelve una tabla que contiene solamente una fila de resumen con el promedio de edades de todas las personas de la tabla 'person'."
      ]
    },
    {
      "cell_type": "markdown",
      "metadata": {
        "id": "y3LWb9qdnXWL"
      },
      "source": [
        "#### Union"
      ]
    },
    {
      "cell_type": "markdown",
      "metadata": {
        "id": "137FTIDpnXWL"
      },
      "source": [
        "En algunas ocaciones no queremos unir columnas de varias tablas, sino que queremos unir filas. Para esto se utiliza la cláusula UNION con varios queries, y se unen las filas de todas las tablas de resultado.\n",
        "\n",
        "```sql\n",
        "SELECT full_name, age FROM person\n",
        "UNION\n",
        "SELECT full_name, age FROM pet;\n",
        "```\n",
        "\n",
        "En este ejemplo se realizan dos queries distintos, a las tablas de 'person' y 'pet' para luego unir en una sola tabla de resultado las filas obtenidas en cada query.\n",
        "\n",
        "Hay una serie de condiciones que deben cumplirse para poder unir los resultados de dos queries:\n",
        "- el número de columnas debe ser igual.\n",
        "- las columnas correspondientes deben tener tipos de datos compatibles.\n",
        "\n",
        "Es importante destacar que las cláusulas GROUP BY se aplica en cada query en particular antes de hacer la unión, mientras que la cláusula ORDER BY se aplica luego de la unión."
      ]
    },
    {
      "cell_type": "markdown",
      "metadata": {
        "id": "vY-RaRvBnXWL"
      },
      "source": [
        "## Escritura"
      ]
    },
    {
      "cell_type": "markdown",
      "metadata": {
        "id": "6tQf2PXOnXWL"
      },
      "source": [
        "Los comandos para modificar los registros de la base de datos son muy similares. Podemos interactuar con la base a nivel de registros (filas de las tablas) o a nivel de tablas."
      ]
    },
    {
      "cell_type": "markdown",
      "metadata": {
        "id": "hHP19ZagnXWM"
      },
      "source": [
        "### Registros"
      ]
    },
    {
      "cell_type": "markdown",
      "metadata": {
        "id": "OXu8hOpMnXWM"
      },
      "source": [
        "Para insertar datos en una tabla se utiliza la instrucción INSERT. Es posible insertar una fila individual, insertar varias filas al mismo tiempo, y especificar valores para uno o más columnas de la tabla.\n",
        "\n",
        "```sql\n",
        "INSERT INTO person (full_name, age)\n",
        "VALUES ('John Smith', 25), ('Emily Smith', 10);\n",
        "```\n",
        "\n",
        "Se debe especificar la tabla a insertar valores luego de INSERT INTO, especificar los nombres de las columnas a insertar datos, y luego la lista de valores luego de VALUES en forma de tuplas."
      ]
    },
    {
      "cell_type": "markdown",
      "metadata": {
        "id": "bVLKaReRnXWM"
      },
      "source": [
        "Para modificar los valores de un registro en una tabla se utiliza la instrucción UPDATE. Se pueden actualizar los valores de múltiples columnas en múltiples filas.\n",
        "\n",
        "```sql\n",
        "UPDATE person\n",
        "SET age = 26\n",
        "WHERE full_name LIKE '%Smith';\n",
        "```\n",
        "\n",
        "Al igual que en el INSERT debemos especificar la tabla sobre la que queremos aplicar el udpate. Luego de la cláusula SET se establecen los nuevos valores para las columnas especificadas, en este caso age. Finalmente se utiliza una cláusula WHERE para filtrar en que filas de la tabla deben aplicarse los cambios. Esta cláusula WHERE es exactamente igual que la vista anteriormente en la intrucción SELECT."
      ]
    },
    {
      "cell_type": "markdown",
      "metadata": {
        "id": "UZbSpCPdnXWM"
      },
      "source": [
        "Finalmente para eliminiar registros de una tabla se utiliza la cláusula DELETE. La sintáxis es prácticamente idéntica al UPDATE con la única diferencia que no es necesario especificar los nuevos valores de columna, ya que se elimina toda la fila.\n",
        "\n",
        "```sql\n",
        "DELETE FROM person\n",
        "WHERE full_name = 'John Smith';\n",
        "```\n",
        "\n",
        "Al igual que en el UPDATE, la cláusula WHERE se usa exactamente igual que en las instrucciones SELECT vistas anteriormente."
      ]
    },
    {
      "cell_type": "markdown",
      "metadata": {
        "id": "NqFyl5sBnXWM"
      },
      "source": [
        "### Tablas"
      ]
    },
    {
      "cell_type": "markdown",
      "metadata": {
        "id": "8GdlFtclnXWQ"
      },
      "source": [
        "El lenguaje también nos permite agregar, modificar y eliminar tablas enteras de la base de datos.\n",
        "\n",
        "Para crear una tabla se utiliza la instrucción CREATE TABLE.\n",
        "\n",
        "```sql\n",
        "CREATE TABLE pet (\n",
        "    pet_id INTEGER PRIMARY KEY,\n",
        "    full_name TEXT NOT NULL,\n",
        "    age INTEGER NOT NULL\n",
        ");\n",
        "```\n",
        "\n",
        "Se definen entre los paréntesis luego del nombre de la tabla las columnas que tendrá la nueva tabla. Cada columna se compone de un nombre, un tipo de datos y una serie de restricciones. Por ejemplo en el caso de la columna full_name definimos que los valores serán texto y no puede contener un valor nulo.\n",
        "\n",
        "Para alterar una tabla se utiliza una sintáxis muy similar con la instrucción ALTER TABLE. Solo podemos modificar una tabla en una de las siguientes maneras:\n",
        "- Renombrar la tabla entera con la cláusula RENAME TO\n",
        "- Agregar una nueva columna con la cláusula ADD COLUMN\n",
        "- Renombrar una columna con la cláusula RENAME COLUMN\n",
        "\n",
        "```sql\n",
        "ALTER TABLE pet\n",
        "ADD COLUMN species;\n",
        "```\n",
        "\n",
        "Finalmente para eliminar por completo una tabla se utiliza la instrucción DROP TABLE.\n",
        "\n",
        "```sql\n",
        "DROP TABLE pet;\n",
        "```"
      ]
    },
    {
      "cell_type": "markdown",
      "metadata": {
        "id": "Wfw2JO_nnXWQ"
      },
      "source": [
        "### Claves en tablas"
      ]
    },
    {
      "cell_type": "markdown",
      "metadata": {
        "id": "sYYjz3WvnXWQ"
      },
      "source": [
        "Como mencionamos anteriormente cada fila de una tabla está indentificada por una clave principal, que se representa como una o más columnas de la tabla. La clave principal se debe definir en la creación de la tabla como PRIMARY KEY.\n",
        "\n",
        "En el caso de las claves que se utilizan para definir relaciones entre tablas, se definen también cuando se crea la tabla como una FOREIGN KEY.\n",
        "\n",
        "Veamos un ejemplo de la tabla 'pet' que está relacionada con la tabla 'person', indicando el dueño de la mascota.\n",
        "\n",
        "```sql\n",
        "CREATE TABLE pet (\n",
        "    pet_id INTEGER PRIMARY KEY,\n",
        "    full_name TEXT NOT NULL,\n",
        "    age INTEGER NOT NULL,\n",
        "    owner_id INTEGER,\n",
        "    FOREIGN KEY (owner_id) REFERENCES person (person_id)\n",
        "        ON DELETE CASCADE\n",
        ");\n",
        "```\n",
        "\n",
        "En este ejemplo se especifica que la columna 'owner_id' de la tabla 'pet' es un enlace con la tabla de 'person', haciendo referencia a la columna 'person_id' de esa tabla."
      ]
    },
    {
      "cell_type": "markdown",
      "metadata": {
        "id": "2_IEjc_jnXWQ"
      },
      "source": [
        "### Relaciones Many to Many"
      ]
    },
    {
      "cell_type": "markdown",
      "metadata": {
        "id": "1jgag9e4nXWQ"
      },
      "source": [
        "En los casos anteriores donde definimos una clave foránea, la relación se puede ver como Many to One. Muchos registros de la tabla 'pet' puede estar asociados al mismo dueño, pero cada 'pet_id' solo puede estar asociado a un 'person_id'.\n",
        "\n",
        "Sin embargo, a veces se requiere que las relaciones entre tablas sean más extensas. Por ejemplo queremos poder establecer no solo que una persona puede tener varias mascotas, sino que una mascota también puede pertecer a varias personas (como por ejemlplo en el caso de una familia). La forma que tienen las bases de datos relacionales de resolver este problema es con la introducción de una nueva tabla que contendrá pares (person_id, pet_id) estableciendo las relaciones entre las tablas. Esta tabla en general suele tener solamente dos columnas, que son claves foráneas a las otras dos tablas.\n",
        "\n",
        "```sql\n",
        "CREATE TABLE person_pets(\n",
        "    person_id INTEGER,\n",
        "    pet_id INTEGER,\n",
        "    FOREIGN KEY (person_id) REFERENCES person (person_id),\n",
        "    FOREIGN KEY (pet_id) REFERENCES pet (pet_id)\n",
        ");\n",
        "```"
      ]
    },
    {
      "cell_type": "markdown",
      "metadata": {
        "id": "M9niNdQsnXWQ"
      },
      "source": [
        "## Ejemplos y ejercicios"
      ]
    },
    {
      "cell_type": "markdown",
      "metadata": {
        "id": "RnrSXYdknXWQ"
      },
      "source": [
        "### Herramientas de desarrollo"
      ]
    },
    {
      "cell_type": "markdown",
      "metadata": {
        "id": "xcERz_dnnXWQ"
      },
      "source": [
        "#### SQLite3"
      ]
    },
    {
      "cell_type": "markdown",
      "metadata": {
        "id": "dNAqJAn1nXWR"
      },
      "source": [
        "Para realizar los ejercicios vamos a utilizar el DBMS SQLite3 ya que es uno de lo más sencillos de instalar y manejar en múltiples plataformas, incluyendo Windows.\n",
        "\n",
        "La principal característica de SQLite3 es que es un sistema que no requiere de un servidor independiente para funcionar, como sí lo requieren otros motores como MySQL o PostgreSQL. La base de datos SQLite3 está integrada con con la aplicación que accede a la base de datos y no requiere de ninguna configuración.\n",
        "\n",
        "Para instalar SQLite3 siga las instrucciones de la paǵina oficial: <a href='https://www.sqlite.org/download.html'>Descarga SQLite3</a>\n",
        "\n",
        "Una vez descargado el archivo comprimido, se debe crear una carpeta nueva: 'C:\\sqlite' (la carpeta se debe llamar sqlite y se crea dentro del disco C). Luego se extraen los contenidos del archivo comprimido en esta nueva carpeta, que tendrá tres programas. El que se utilizará para ejecutar las instrucciones de SQL es el sqlite3.exe"
      ]
    },
    {
      "cell_type": "markdown",
      "metadata": {
        "id": "SFkUKX8qnXWR"
      },
      "source": [
        "#### Base de datos"
      ]
    },
    {
      "cell_type": "markdown",
      "metadata": {
        "id": "WadJ9dFInXWR"
      },
      "source": [
        "Utilizaremos una base de datos de ejemplo, que tienen disponible en el repositorio de este curso. La base de datos se llama chinook.db y cuenta con múltiples tablas ya armadas con datos. La base de datos representa pistas de música, álbumes, artistas, entre otros objetos.\n",
        "\n",
        "Para visualizar los contenidos de esta base de datos pueden utilizar la herramienta DB Browser for SQLite, que también pueden descargarse de la página oficial: <a href=\"https://sqlitebrowser.org/dl/\">Descarga DB Browser</a>."
      ]
    },
    {
      "cell_type": "markdown",
      "metadata": {
        "id": "L8xNR_ZRnXWR"
      },
      "source": [
        "### Ejemplos"
      ]
    },
    {
      "cell_type": "markdown",
      "metadata": {
        "id": "kWclr0KKnXWR"
      },
      "source": [
        "Pueden encontrar un archivo .sql con múltiples instrucciones SQL en el repositorio del curso."
      ]
    },
    {
      "cell_type": "markdown",
      "metadata": {
        "id": "mnFy1p4AnXWR"
      },
      "source": [
        "# Aplicaciones en Python"
      ]
    },
    {
      "cell_type": "markdown",
      "metadata": {
        "id": "05HdOr5AnXWR"
      },
      "source": [
        "Una vez aprendido los conceptos básicos de SQL debemos aprender a aplicarlos en el lenguaje Python. Existen muchas formas de interactuar con bases de datos desde Python, haciendo uso de SQL en diferentes niveles de abstracción."
      ]
    },
    {
      "cell_type": "markdown",
      "metadata": {
        "id": "Kj9H-hZxnXWR"
      },
      "source": [
        "## APIs de base de datos"
      ]
    },
    {
      "cell_type": "markdown",
      "metadata": {
        "id": "M_NbBczJnXWR"
      },
      "source": [
        "En el nivel más bajo se puede interactuar con una base de datos mediante una API de base de datos. Estas APIs nos permiten programar para los diferentes DBMS, siguiendo un modelo de código que es común a todos.\n",
        "\n",
        "- Se establece una conexión con la base de datos.\n",
        "- Se crea un cursor para comunicarse con los datos.\n",
        "- Se interactúa con los datos mediante SQL.\n",
        "- Se ejecutan las acciones programadas.\n",
        "- Se cierra la conexión con la base de datos.\n",
        "\n",
        "Para estos ejemplos vamos a utilizar el paquete de Python que maneja el motor SQLite3 visto anteriormente.\n",
        "\n",
        "<a href='https://docs.python.org/3/library/sqlite3.html'>Documentación sqlite3</a>"
      ]
    },
    {
      "cell_type": "code",
      "execution_count": null,
      "metadata": {
        "id": "ITcny7P1nXWR",
        "outputId": "4314bcd6-f4a9-4efc-87b6-92368d58b9c4"
      },
      "outputs": [
        {
          "name": "stdout",
          "output_type": "stream",
          "text": [
            "('Occupation / Precipice', 5286953)\n",
            "('Through a Looking Glass', 5088838)\n",
            "('Greetings from Earth, Pt. 1', 2960293)\n",
            "('The Man With Nine Lives', 2956998)\n",
            "('Battlestar Galactica, Pt. 2', 2956081)\n",
            "('Battlestar Galactica, Pt. 1', 2952702)\n",
            "('Murder On the Rising Star', 2935894)\n"
          ]
        }
      ],
      "source": [
        "import sqlite3\n",
        "\n",
        "# Creamos una conexión con la base de datos\n",
        "con = sqlite3.connect('chinook.db')\n",
        "\n",
        "# Creamos el curso para interactuar con los datos\n",
        "cursor = con.cursor()\n",
        "\n",
        "x = 7\n",
        "# Ejecutar comandos de SQL\n",
        "res = cursor.execute(f'''\n",
        "    SELECT name, milliseconds\n",
        "    FROM tracks\n",
        "    ORDER BY milliseconds DESC\n",
        "    LIMIT {x};\n",
        "''')\n",
        "for row in res:\n",
        "    print(row)\n",
        "\n",
        "# Cerramos la conexión\n",
        "con.close()"
      ]
    },
    {
      "cell_type": "markdown",
      "metadata": {
        "id": "yMZ1Avh1nXWS"
      },
      "source": [
        "## Mapeo objeto-relacional"
      ]
    },
    {
      "cell_type": "markdown",
      "metadata": {
        "id": "-qjo7-t8nXWS"
      },
      "source": [
        "El mapeo objeto-relacional, conocido como ORM, es un modelo de programación que permite mapear las estructuras de una base de datos relacional sobre una estructura de objetos y clases, en este de Python. En este nivel de abstracción el ORM nos permite liberarnos de la generación manual de código SQL y se interactúa con la base de datos mediante las clases definidas en el ORM.\n",
        "\n",
        "Una vez definidos los modelos en el ORM se utilizan de la misma forma que utilizamos clases y objetos de Python cuando vimos POO.\n",
        "\n",
        "Existen varios ORM para Python, pero entre los más utilizados están:\n",
        "- Django: un framework de desarrollo web que tiene incorporado un ORM. <a href='https://docs.djangoproject.com/en/4.0/#the-model-layer'>Documentación</a>\n",
        "- SQLAlchemy: kit de herramientas de SQL para Python. <a href='https://www.sqlalchemy.org/'>Documentación</a>"
      ]
    },
    {
      "cell_type": "markdown",
      "metadata": {
        "id": "1Oy-ocr0nXWT"
      },
      "source": [
        "# Ejercicios"
      ]
    },
    {
      "cell_type": "markdown",
      "metadata": {
        "id": "IN4iDu0PnXWT"
      },
      "source": [
        "Para todos los ejercicios utilice el paquete sqlite3 de Python para interactuar con la base de datos.\n",
        "\n",
        "1) Escribir un programa en Python que genere dos tablas, una tabla de paises y una tabla de empresas. Llene ambas tablas con datos aleatorios (puede hardcodear una lista de paise), y asigne también de forma aleatorio las empresas a los paises. Deben cumplir con la restricción de que cada país debe tener al menos una empresa, y además un país no puede tener más de 5 empresas.\n",
        "\n",
        "Los datos de la tabla país deben ser:\n",
        "- Nombre del país\n",
        "- Nombre del continente al que pertenece\n",
        "- Cantidad de habitantes del país\n",
        "\n",
        "Los datos de la tabla de empresa deben ser:\n",
        "- El nombre de la empresa\n",
        "- La cantidad de empleados\n",
        "- Los impuestos que debe pagar cada mes\n",
        "- Un estimado de ganancia mensual\n",
        "- País al que pertenece (relación la otra tabla)\n",
        "\n",
        "2) Aumentar los impuestos que deben pagar las empresas de los paises de Europa en un 10%, pero sólo para aquellas empresas con más de 100 empleados.\n",
        "\n",
        "3) Agregar un empleado a las empresas que pertenecen a un país con menos de 3 millones de habitantes.\n",
        "\n",
        "4) Disminuir la ganancia estimada de las empresas en paises de más de 40 millones de habitantes, pero sólo para aquellas que paguen al menos $10000 de impuestos."
      ]
    },
    {
      "cell_type": "code",
      "execution_count": null,
      "metadata": {
        "id": "1fhxVSB-nXWT"
      },
      "outputs": [],
      "source": []
    }
  ],
  "metadata": {
    "colab": {
      "name": "Clase 8.ipynb",
      "provenance": [],
      "include_colab_link": true
    },
    "interpreter": {
      "hash": "38ad9663513a833788b968a0b4322a45b767c1b99d52c9413acf26c6c3851cf5"
    },
    "kernelspec": {
      "display_name": "Python 3.10.5 ('feature-env')",
      "language": "python",
      "name": "python3"
    },
    "language_info": {
      "codemirror_mode": {
        "name": "ipython",
        "version": 3
      },
      "file_extension": ".py",
      "mimetype": "text/x-python",
      "name": "python",
      "nbconvert_exporter": "python",
      "pygments_lexer": "ipython3",
      "version": "3.10.5"
    }
  },
  "nbformat": 4,
  "nbformat_minor": 0
}